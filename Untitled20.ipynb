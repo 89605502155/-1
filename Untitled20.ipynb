{
  "nbformat": 4,
  "nbformat_minor": 0,
  "metadata": {
    "colab": {
      "provenance": [],
      "authorship_tag": "ABX9TyMKXgvVVN7Cf3R46Oz0zTzE",
      "include_colab_link": true
    },
    "kernelspec": {
      "name": "python3",
      "display_name": "Python 3"
    },
    "language_info": {
      "name": "python"
    }
  },
  "cells": [
    {
      "cell_type": "markdown",
      "metadata": {
        "id": "view-in-github",
        "colab_type": "text"
      },
      "source": [
        "<a href=\"https://colab.research.google.com/github/89605502155/-1/blob/master/Untitled20.ipynb\" target=\"_parent\"><img src=\"https://colab.research.google.com/assets/colab-badge.svg\" alt=\"Open In Colab\"/></a>"
      ]
    },
    {
      "cell_type": "code",
      "execution_count": 7,
      "metadata": {
        "id": "2smmnlgeJ8f2"
      },
      "outputs": [],
      "source": [
        "import numpy as np\n",
        "import math"
      ]
    },
    {
      "cell_type": "code",
      "source": [
        "x = np.arange(0,4.01,0.01)"
      ],
      "metadata": {
        "id": "m2H6-PxhLYm9"
      },
      "execution_count": 18,
      "outputs": []
    },
    {
      "cell_type": "code",
      "source": [
        "class qv:\n",
        "  def __init__(self,a) -> None:\n",
        "    self.al=a\n",
        "\n",
        "  def kor(self):\n",
        "    return math.sqrt(math.pow(self.b,2)-(4*self.a*self.c))\n",
        "\n",
        "  def main(self):\n",
        "    self.a=1\n",
        "    self.b=self.al-6\n",
        "    self.c=math.pow(self.al-1,2)-(4*(self.al-1))+4\n",
        "    x1=(((-1)*self.b)+self.kor())/(2*self.a)\n",
        "    x2=(((-1)*self.b)-self.kor())/(2*self.a)\n",
        "    if x2+self.al<3:\n",
        "      return x1,0\n",
        "    else:\n",
        "      return x1,x2\n",
        ""
      ],
      "metadata": {
        "id": "3CPJhoaHLo6u"
      },
      "execution_count": 23,
      "outputs": []
    },
    {
      "cell_type": "code",
      "source": [
        "class ger_arr:\n",
        "  def __init__(self,x:np.ndarray) -> None:\n",
        "    self.x=x\n",
        "\n",
        "  def main(self):\n",
        "    y1=np.zeros(self.x.shape[0])\n",
        "    y2=np.zeros(self.x.shape[0])\n",
        "    for i in range(self.x.shape[0]):\n",
        "      mod=qv(self.x[i])\n",
        "      y1[i],y2[i]=mod.main()\n",
        "    return y1,y2"
      ],
      "metadata": {
        "id": "EhZqfpSaP2k2"
      },
      "execution_count": 24,
      "outputs": []
    },
    {
      "cell_type": "code",
      "source": [
        "mod=ger_arr(x)\n",
        "y1,y2=mod.main()"
      ],
      "metadata": {
        "id": "okar4FkTREFF"
      },
      "execution_count": 25,
      "outputs": []
    },
    {
      "cell_type": "code",
      "source": [
        "import matplotlib.pyplot as plt"
      ],
      "metadata": {
        "id": "-hV-YQSpRUkO"
      },
      "execution_count": 16,
      "outputs": []
    },
    {
      "cell_type": "code",
      "source": [
        "plt.plot(x, y1)\n",
        "plt.plot(x, y2)\n",
        "plt.fill_between(x, y1,y2)\n",
        "plt.show()"
      ],
      "metadata": {
        "colab": {
          "base_uri": "https://localhost:8080/",
          "height": 430
        },
        "id": "lMUCuYPURR44",
        "outputId": "ccf2a4e5-de30-4f4a-fa5c-6fab29be2017"
      },
      "execution_count": 28,
      "outputs": [
        {
          "output_type": "display_data",
          "data": {
            "text/plain": [
              "<Figure size 640x480 with 1 Axes>"
            ],
            "image/png": "[encoded data removed]"
          },
          "metadata": {}
        }
      ]
    }
  ]
}